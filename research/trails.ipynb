{
 "cells": [
  {
   "cell_type": "markdown",
   "id": "83f46569",
   "metadata": {},
   "source": [
    "# Text splitting"
   ]
  },
  {
   "cell_type": "code",
   "execution_count": null,
   "id": "601ff2ff",
   "metadata": {},
   "outputs": [
    {
     "ename": "",
     "evalue": "",
     "output_type": "error",
     "traceback": [
      "\u001b[1;31mRunning cells with 'venv (Python 3.10.16)' requires the ipykernel package.\n",
      "\u001b[1;31mInstall 'ipykernel' into the Python environment. \n",
      "\u001b[1;31mCommand: 'conda install -p c:\\Users\\ACER\\Desktop\\Code\\Stock Research Assistant\\Stock-Research-Assistant\\venv ipykernel --update-deps --force-reinstall'"
     ]
    }
   ],
   "source": [
    "from langchain.document_loaders import TextLoader"
   ]
  },
  {
   "cell_type": "code",
   "execution_count": null,
   "id": "15588f7f",
   "metadata": {},
   "outputs": [],
   "source": [
    "loader = TextLoader(\"research/test_data-nvidia_news.txt\")\n",
    "loader"
   ]
  }
 ],
 "metadata": {
  "kernelspec": {
   "display_name": "Python 3",
   "language": "python",
   "name": "python3"
  },
  "language_info": {
   "name": "python",
   "version": "3.10.16"
  }
 },
 "nbformat": 4,
 "nbformat_minor": 5
}
